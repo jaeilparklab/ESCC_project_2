{
 "cells": [
  {
   "cell_type": "code",
   "execution_count": 56,
   "id": "12b83263",
   "metadata": {},
   "outputs": [
    {
     "name": "stdout",
     "output_type": "stream",
     "text": [
      "Collecting igraphNote: you may need to restart the kernel to use updated packages.\n",
      "\n",
      "  Downloading igraph-0.9.11-cp39-cp39-win_amd64.whl (2.8 MB)\n",
      "     ---------------------------------------- 2.8/2.8 MB 11.9 MB/s eta 0:00:00\n",
      "Collecting texttable>=1.6.2\n",
      "  Using cached texttable-1.6.4-py2.py3-none-any.whl (10 kB)\n",
      "Installing collected packages: texttable, igraph\n",
      "Successfully installed igraph-0.9.11 texttable-1.6.4\n"
     ]
    },
    {
     "name": "stderr",
     "output_type": "stream",
     "text": [
      "WARNING: You are using pip version 22.0.4; however, version 22.1.2 is available.\n",
      "You should consider upgrading via the 'C:\\Users\\KKo1\\Anaconda3\\envs\\py38\\python.exe -m pip install --upgrade pip' command.\n"
     ]
    }
   ],
   "source": [
    "pip install igraph"
   ]
  },
  {
   "cell_type": "code",
   "execution_count": 58,
   "id": "b745d9c5",
   "metadata": {},
   "outputs": [
    {
     "name": "stdout",
     "output_type": "stream",
     "text": [
      "Collecting louvainNote: you may need to restart the kernel to use updated packages.\n",
      "\n",
      "  Using cached louvain-0.7.1-cp39-cp39-win_amd64.whl (94 kB)\n",
      "Requirement already satisfied: igraph>=0.9.5 in c:\\users\\kko1\\anaconda3\\envs\\py38\\lib\\site-packages (from louvain) (0.9.11)\n",
      "Requirement already satisfied: texttable>=1.6.2 in c:\\users\\kko1\\anaconda3\\envs\\py38\\lib\\site-packages (from igraph>=0.9.5->louvain) (1.6.4)\n",
      "Installing collected packages: louvain\n",
      "Successfully installed louvain-0.7.1\n"
     ]
    },
    {
     "name": "stderr",
     "output_type": "stream",
     "text": [
      "WARNING: You are using pip version 22.0.4; however, version 22.1.2 is available.\n",
      "You should consider upgrading via the 'C:\\Users\\KKo1\\Anaconda3\\envs\\py38\\python.exe -m pip install --upgrade pip' command.\n"
     ]
    }
   ],
   "source": [
    "pip install louvain"
   ]
  },
  {
   "cell_type": "code",
   "execution_count": 1,
   "id": "2ed88fcc",
   "metadata": {},
   "outputs": [
    {
     "name": "stdout",
     "output_type": "stream",
     "text": [
      "Running scvelo 0.2.4 (python 3.9.12) on 2023-01-13 09:02.\n"
     ]
    }
   ],
   "source": [
    "import pandas as pd\n",
    "import scanpy as sc\n",
    "import numpy as np\n",
    "from numpy import linalg as la\n",
    "from scipy.sparse import issparse\n",
    "import loompy\n",
    "import anndata\n",
    "import scvelo as scv\n",
    "scv.logging.print_version()"
   ]
  },
  {
   "cell_type": "code",
   "execution_count": 2,
   "id": "57a367bb",
   "metadata": {},
   "outputs": [
    {
     "name": "stdout",
     "output_type": "stream",
     "text": [
      "scanpy==1.9.1 anndata==0.8.0 umap==0.5.3 numpy==1.21.6 scipy==1.8.0 pandas==1.4.2 scikit-learn==1.0.2 statsmodels==0.13.2 python-igraph==0.10.1 louvain==0.7.1 pynndescent==0.5.6\n"
     ]
    }
   ],
   "source": [
    "sc.settings.verbosity = 3             # verbosity: errors (0), warnings (1), info (2), hints (3)\n",
    "sc.logging.print_header()\n",
    "sc.settings.set_figure_params(dpi=80,dpi_save=300, facecolor='white')"
   ]
  },
  {
   "cell_type": "code",
   "execution_count": 4,
   "id": "f96d30a3",
   "metadata": {},
   "outputs": [],
   "source": [
    "import scanpy.external as sce"
   ]
  },
  {
   "cell_type": "code",
   "execution_count": 6,
   "id": "f039a670",
   "metadata": {},
   "outputs": [],
   "source": [
    "import os\n",
    "os.chdir('F:/Ko/PD-1_responders')"
   ]
  },
  {
   "cell_type": "code",
   "execution_count": null,
   "id": "7dc67124",
   "metadata": {},
   "outputs": [],
   "source": []
  },
  {
   "cell_type": "markdown",
   "id": "84c9245e",
   "metadata": {},
   "source": [
    "# T cell dataset"
   ]
  },
  {
   "cell_type": "code",
   "execution_count": 7,
   "id": "901e8d4a",
   "metadata": {},
   "outputs": [],
   "source": [
    "adata_T = sc.read('T_cell_isolated.h5ad')"
   ]
  },
  {
   "cell_type": "code",
   "execution_count": 8,
   "id": "8dce4224",
   "metadata": {},
   "outputs": [
    {
     "data": {
      "text/plain": [
       "AnnData object with n_obs × n_vars = 6394 × 11409\n",
       "    obs: 'n_genes', 'n_genes_by_counts', 'total_counts', 'total_counts_mt', 'pct_counts_mt', 'patient', 'file_name', 'leiden', 'batch', 'total_counts_ribo', 'pct_counts_ribo', 'total_counts_hb', 'pct_counts_hb', 'celltype', 'crude', 'celltype_detail', 'response'\n",
       "    var: 'gene_ids', 'mt', 'n_cells-0', 'n_cells_by_counts-0', 'mean_counts-0', 'pct_dropout_by_counts-0', 'total_counts-0', 'n_cells-1', 'n_cells_by_counts-1', 'mean_counts-1', 'pct_dropout_by_counts-1', 'total_counts-1', 'n_cells-2', 'n_cells_by_counts-2', 'mean_counts-2', 'pct_dropout_by_counts-2', 'total_counts-2', 'n_cells-3', 'n_cells_by_counts-3', 'mean_counts-3', 'pct_dropout_by_counts-3', 'total_counts-3', 'n_cells-4', 'n_cells_by_counts-4', 'mean_counts-4', 'pct_dropout_by_counts-4', 'total_counts-4', 'n_cells-5', 'n_cells_by_counts-5', 'mean_counts-5', 'pct_dropout_by_counts-5', 'total_counts-5', 'ribo', 'hb', 'n_cells_by_counts', 'mean_counts', 'pct_dropout_by_counts', 'total_counts', 'mean', 'std'\n",
       "    uns: 'celltype_detail_colors', 'dendrogram_leiden', 'dendrogram_patient', 'leiden', 'neighbors', 'patient_colors', 'pca', 'rank_genes_groups', 'response_colors', 'umap'\n",
       "    obsm: 'X_pca', 'X_pca_harmony', 'X_umap'\n",
       "    varm: 'PCs'\n",
       "    obsp: 'connectivities', 'distances'"
      ]
     },
     "execution_count": 8,
     "metadata": {},
     "output_type": "execute_result"
    }
   ],
   "source": [
    "adata_T"
   ]
  },
  {
   "cell_type": "code",
   "execution_count": 9,
   "id": "47dae830",
   "metadata": {},
   "outputs": [
    {
     "data": {
      "text/html": [
       "<div>\n",
       "<style scoped>\n",
       "    .dataframe tbody tr th:only-of-type {\n",
       "        vertical-align: middle;\n",
       "    }\n",
       "\n",
       "    .dataframe tbody tr th {\n",
       "        vertical-align: top;\n",
       "    }\n",
       "\n",
       "    .dataframe thead th {\n",
       "        text-align: right;\n",
       "    }\n",
       "</style>\n",
       "<table border=\"1\" class=\"dataframe\">\n",
       "  <thead>\n",
       "    <tr style=\"text-align: right;\">\n",
       "      <th></th>\n",
       "      <th>n_genes</th>\n",
       "      <th>n_genes_by_counts</th>\n",
       "      <th>total_counts</th>\n",
       "      <th>total_counts_mt</th>\n",
       "      <th>pct_counts_mt</th>\n",
       "      <th>patient</th>\n",
       "      <th>file_name</th>\n",
       "      <th>leiden</th>\n",
       "      <th>batch</th>\n",
       "      <th>total_counts_ribo</th>\n",
       "      <th>pct_counts_ribo</th>\n",
       "      <th>total_counts_hb</th>\n",
       "      <th>pct_counts_hb</th>\n",
       "      <th>celltype</th>\n",
       "      <th>crude</th>\n",
       "      <th>celltype_detail</th>\n",
       "      <th>response</th>\n",
       "    </tr>\n",
       "  </thead>\n",
       "  <tbody>\n",
       "    <tr>\n",
       "      <th>CTTGCCGTCGGA-0</th>\n",
       "      <td>3741</td>\n",
       "      <td>3635</td>\n",
       "      <td>1397.243774</td>\n",
       "      <td>19.050234</td>\n",
       "      <td>1.363415</td>\n",
       "      <td>nonresponder_1</td>\n",
       "      <td>PD1-D1</td>\n",
       "      <td>8</td>\n",
       "      <td>0</td>\n",
       "      <td>101.290787</td>\n",
       "      <td>7.249329</td>\n",
       "      <td>1.210672</td>\n",
       "      <td>0.086647</td>\n",
       "      <td>T cell</td>\n",
       "      <td>NaN</td>\n",
       "      <td>Monocyte</td>\n",
       "      <td>Nonresponders</td>\n",
       "    </tr>\n",
       "    <tr>\n",
       "      <th>CATTGATCCAGT-0</th>\n",
       "      <td>2703</td>\n",
       "      <td>2634</td>\n",
       "      <td>1402.153442</td>\n",
       "      <td>21.471428</td>\n",
       "      <td>1.531318</td>\n",
       "      <td>nonresponder_1</td>\n",
       "      <td>PD1-D1</td>\n",
       "      <td>8</td>\n",
       "      <td>0</td>\n",
       "      <td>116.315269</td>\n",
       "      <td>8.295473</td>\n",
       "      <td>1.858456</td>\n",
       "      <td>0.132543</td>\n",
       "      <td>T cell</td>\n",
       "      <td>NaN</td>\n",
       "      <td>Monocyte</td>\n",
       "      <td>Nonresponders</td>\n",
       "    </tr>\n",
       "    <tr>\n",
       "      <th>GGCGACACGTAC-0</th>\n",
       "      <td>2184</td>\n",
       "      <td>2142</td>\n",
       "      <td>1405.822388</td>\n",
       "      <td>27.640001</td>\n",
       "      <td>1.966109</td>\n",
       "      <td>nonresponder_1</td>\n",
       "      <td>PD1-D1</td>\n",
       "      <td>8</td>\n",
       "      <td>0</td>\n",
       "      <td>137.818497</td>\n",
       "      <td>9.803408</td>\n",
       "      <td>1.999074</td>\n",
       "      <td>0.142200</td>\n",
       "      <td>T cell</td>\n",
       "      <td>NaN</td>\n",
       "      <td>Monocyte</td>\n",
       "      <td>Nonresponders</td>\n",
       "    </tr>\n",
       "    <tr>\n",
       "      <th>TAGCTAATGAAC-0</th>\n",
       "      <td>1730</td>\n",
       "      <td>1695</td>\n",
       "      <td>1401.805054</td>\n",
       "      <td>21.381281</td>\n",
       "      <td>1.525268</td>\n",
       "      <td>nonresponder_1</td>\n",
       "      <td>PD1-D1</td>\n",
       "      <td>8</td>\n",
       "      <td>0</td>\n",
       "      <td>134.718109</td>\n",
       "      <td>9.610331</td>\n",
       "      <td>1.546091</td>\n",
       "      <td>0.110293</td>\n",
       "      <td>T cell</td>\n",
       "      <td>NaN</td>\n",
       "      <td>Monocyte</td>\n",
       "      <td>Nonresponders</td>\n",
       "    </tr>\n",
       "    <tr>\n",
       "      <th>CACCTTGTCTGC-0</th>\n",
       "      <td>2022</td>\n",
       "      <td>1981</td>\n",
       "      <td>1401.692505</td>\n",
       "      <td>24.470905</td>\n",
       "      <td>1.745811</td>\n",
       "      <td>nonresponder_1</td>\n",
       "      <td>PD1-D1</td>\n",
       "      <td>8</td>\n",
       "      <td>0</td>\n",
       "      <td>134.183838</td>\n",
       "      <td>9.572987</td>\n",
       "      <td>0.503956</td>\n",
       "      <td>0.035953</td>\n",
       "      <td>T cell</td>\n",
       "      <td>NaN</td>\n",
       "      <td>Monocyte</td>\n",
       "      <td>Nonresponders</td>\n",
       "    </tr>\n",
       "    <tr>\n",
       "      <th>...</th>\n",
       "      <td>...</td>\n",
       "      <td>...</td>\n",
       "      <td>...</td>\n",
       "      <td>...</td>\n",
       "      <td>...</td>\n",
       "      <td>...</td>\n",
       "      <td>...</td>\n",
       "      <td>...</td>\n",
       "      <td>...</td>\n",
       "      <td>...</td>\n",
       "      <td>...</td>\n",
       "      <td>...</td>\n",
       "      <td>...</td>\n",
       "      <td>...</td>\n",
       "      <td>...</td>\n",
       "      <td>...</td>\n",
       "      <td>...</td>\n",
       "    </tr>\n",
       "    <tr>\n",
       "      <th>TTAAGAGCGATG-5</th>\n",
       "      <td>573</td>\n",
       "      <td>568</td>\n",
       "      <td>2128.075684</td>\n",
       "      <td>78.165314</td>\n",
       "      <td>3.673051</td>\n",
       "      <td>responder_3</td>\n",
       "      <td>PD1-S3</td>\n",
       "      <td>3</td>\n",
       "      <td>5</td>\n",
       "      <td>219.067154</td>\n",
       "      <td>10.294143</td>\n",
       "      <td>4.239720</td>\n",
       "      <td>0.199228</td>\n",
       "      <td>T cell</td>\n",
       "      <td>NaN</td>\n",
       "      <td>CD8 T cell</td>\n",
       "      <td>Responders</td>\n",
       "    </tr>\n",
       "    <tr>\n",
       "      <th>AATGTTGCCAAG-5</th>\n",
       "      <td>594</td>\n",
       "      <td>582</td>\n",
       "      <td>2106.455566</td>\n",
       "      <td>69.969345</td>\n",
       "      <td>3.321662</td>\n",
       "      <td>responder_3</td>\n",
       "      <td>PD1-S3</td>\n",
       "      <td>3</td>\n",
       "      <td>5</td>\n",
       "      <td>261.601166</td>\n",
       "      <td>12.419022</td>\n",
       "      <td>8.668961</td>\n",
       "      <td>0.411543</td>\n",
       "      <td>T cell</td>\n",
       "      <td>NaN</td>\n",
       "      <td>CD8 T cell</td>\n",
       "      <td>Responders</td>\n",
       "    </tr>\n",
       "    <tr>\n",
       "      <th>ATTCACGCAGGA-5</th>\n",
       "      <td>601</td>\n",
       "      <td>593</td>\n",
       "      <td>2120.158691</td>\n",
       "      <td>56.815372</td>\n",
       "      <td>2.679770</td>\n",
       "      <td>responder_3</td>\n",
       "      <td>PD1-S3</td>\n",
       "      <td>3</td>\n",
       "      <td>5</td>\n",
       "      <td>240.439865</td>\n",
       "      <td>11.340654</td>\n",
       "      <td>8.646555</td>\n",
       "      <td>0.407826</td>\n",
       "      <td>T cell</td>\n",
       "      <td>NaN</td>\n",
       "      <td>CD8 T cell</td>\n",
       "      <td>Responders</td>\n",
       "    </tr>\n",
       "    <tr>\n",
       "      <th>GCTCACGGCAGG-5</th>\n",
       "      <td>560</td>\n",
       "      <td>541</td>\n",
       "      <td>2078.378662</td>\n",
       "      <td>57.489052</td>\n",
       "      <td>2.766053</td>\n",
       "      <td>responder_3</td>\n",
       "      <td>PD1-S3</td>\n",
       "      <td>3</td>\n",
       "      <td>5</td>\n",
       "      <td>346.141968</td>\n",
       "      <td>16.654423</td>\n",
       "      <td>8.568939</td>\n",
       "      <td>0.412290</td>\n",
       "      <td>T cell</td>\n",
       "      <td>NaN</td>\n",
       "      <td>NK cell</td>\n",
       "      <td>Responders</td>\n",
       "    </tr>\n",
       "    <tr>\n",
       "      <th>TTGCCTTCGAAT-5</th>\n",
       "      <td>574</td>\n",
       "      <td>562</td>\n",
       "      <td>2103.032471</td>\n",
       "      <td>66.726227</td>\n",
       "      <td>3.172858</td>\n",
       "      <td>responder_3</td>\n",
       "      <td>PD1-S3</td>\n",
       "      <td>3</td>\n",
       "      <td>5</td>\n",
       "      <td>245.568970</td>\n",
       "      <td>11.676899</td>\n",
       "      <td>10.268842</td>\n",
       "      <td>0.488287</td>\n",
       "      <td>T cell</td>\n",
       "      <td>NaN</td>\n",
       "      <td>CD8 T cell</td>\n",
       "      <td>Responders</td>\n",
       "    </tr>\n",
       "  </tbody>\n",
       "</table>\n",
       "<p>6394 rows × 17 columns</p>\n",
       "</div>"
      ],
      "text/plain": [
       "                n_genes  n_genes_by_counts  total_counts  total_counts_mt  \\\n",
       "CTTGCCGTCGGA-0     3741               3635   1397.243774        19.050234   \n",
       "CATTGATCCAGT-0     2703               2634   1402.153442        21.471428   \n",
       "GGCGACACGTAC-0     2184               2142   1405.822388        27.640001   \n",
       "TAGCTAATGAAC-0     1730               1695   1401.805054        21.381281   \n",
       "CACCTTGTCTGC-0     2022               1981   1401.692505        24.470905   \n",
       "...                 ...                ...           ...              ...   \n",
       "TTAAGAGCGATG-5      573                568   2128.075684        78.165314   \n",
       "AATGTTGCCAAG-5      594                582   2106.455566        69.969345   \n",
       "ATTCACGCAGGA-5      601                593   2120.158691        56.815372   \n",
       "GCTCACGGCAGG-5      560                541   2078.378662        57.489052   \n",
       "TTGCCTTCGAAT-5      574                562   2103.032471        66.726227   \n",
       "\n",
       "                pct_counts_mt         patient file_name leiden batch  \\\n",
       "CTTGCCGTCGGA-0       1.363415  nonresponder_1    PD1-D1      8     0   \n",
       "CATTGATCCAGT-0       1.531318  nonresponder_1    PD1-D1      8     0   \n",
       "GGCGACACGTAC-0       1.966109  nonresponder_1    PD1-D1      8     0   \n",
       "TAGCTAATGAAC-0       1.525268  nonresponder_1    PD1-D1      8     0   \n",
       "CACCTTGTCTGC-0       1.745811  nonresponder_1    PD1-D1      8     0   \n",
       "...                       ...             ...       ...    ...   ...   \n",
       "TTAAGAGCGATG-5       3.673051     responder_3    PD1-S3      3     5   \n",
       "AATGTTGCCAAG-5       3.321662     responder_3    PD1-S3      3     5   \n",
       "ATTCACGCAGGA-5       2.679770     responder_3    PD1-S3      3     5   \n",
       "GCTCACGGCAGG-5       2.766053     responder_3    PD1-S3      3     5   \n",
       "TTGCCTTCGAAT-5       3.172858     responder_3    PD1-S3      3     5   \n",
       "\n",
       "                total_counts_ribo  pct_counts_ribo  total_counts_hb  \\\n",
       "CTTGCCGTCGGA-0         101.290787         7.249329         1.210672   \n",
       "CATTGATCCAGT-0         116.315269         8.295473         1.858456   \n",
       "GGCGACACGTAC-0         137.818497         9.803408         1.999074   \n",
       "TAGCTAATGAAC-0         134.718109         9.610331         1.546091   \n",
       "CACCTTGTCTGC-0         134.183838         9.572987         0.503956   \n",
       "...                           ...              ...              ...   \n",
       "TTAAGAGCGATG-5         219.067154        10.294143         4.239720   \n",
       "AATGTTGCCAAG-5         261.601166        12.419022         8.668961   \n",
       "ATTCACGCAGGA-5         240.439865        11.340654         8.646555   \n",
       "GCTCACGGCAGG-5         346.141968        16.654423         8.568939   \n",
       "TTGCCTTCGAAT-5         245.568970        11.676899        10.268842   \n",
       "\n",
       "                pct_counts_hb celltype  crude celltype_detail       response  \n",
       "CTTGCCGTCGGA-0       0.086647   T cell    NaN        Monocyte  Nonresponders  \n",
       "CATTGATCCAGT-0       0.132543   T cell    NaN        Monocyte  Nonresponders  \n",
       "GGCGACACGTAC-0       0.142200   T cell    NaN        Monocyte  Nonresponders  \n",
       "TAGCTAATGAAC-0       0.110293   T cell    NaN        Monocyte  Nonresponders  \n",
       "CACCTTGTCTGC-0       0.035953   T cell    NaN        Monocyte  Nonresponders  \n",
       "...                       ...      ...    ...             ...            ...  \n",
       "TTAAGAGCGATG-5       0.199228   T cell    NaN      CD8 T cell     Responders  \n",
       "AATGTTGCCAAG-5       0.411543   T cell    NaN      CD8 T cell     Responders  \n",
       "ATTCACGCAGGA-5       0.407826   T cell    NaN      CD8 T cell     Responders  \n",
       "GCTCACGGCAGG-5       0.412290   T cell    NaN         NK cell     Responders  \n",
       "TTGCCTTCGAAT-5       0.488287   T cell    NaN      CD8 T cell     Responders  \n",
       "\n",
       "[6394 rows x 17 columns]"
      ]
     },
     "execution_count": 9,
     "metadata": {},
     "output_type": "execute_result"
    }
   ],
   "source": [
    "adata_T.obs"
   ]
  },
  {
   "cell_type": "code",
   "execution_count": 10,
   "id": "12021f85",
   "metadata": {},
   "outputs": [
    {
     "name": "stdout",
     "output_type": "stream",
     "text": [
      "ranking genes\n",
      "    finished: added to `.uns['response_rank_fgsea']`\n",
      "    'names', sorted np.recarray to be indexed by group ids\n",
      "    'scores', sorted np.recarray to be indexed by group ids\n",
      "    'logfoldchanges', sorted np.recarray to be indexed by group ids\n",
      "    'pvals', sorted np.recarray to be indexed by group ids\n",
      "    'pvals_adj', sorted np.recarray to be indexed by group ids (0:00:14)\n"
     ]
    }
   ],
   "source": [
    "#for fGSEA\n",
    "sc.tl.rank_genes_groups(adata_T, groupby='response', method='wilcoxon', use_raw=True,  key_added = \"response_rank_fgsea\")\n",
    "result = adata_T.uns['response_rank_fgsea']\n",
    "groups = result['names'].dtype.names\n",
    "pd.DataFrame(\n",
    "    {group + '_' + key[:5]: result[key][group]\n",
    "    for group in groups for key in ['names', 'scores','logfoldchanges', 'pvals', 'pvals_adj']}).to_csv(\"F:/Ko/PD-1_responders/T_cell_response_fgesa.csv\")\n",
    "# logFC becomes negative or disappear when use_raw=False, could be Scanpy bug\n"
   ]
  },
  {
   "cell_type": "code",
   "execution_count": 11,
   "id": "5a5511e5",
   "metadata": {},
   "outputs": [],
   "source": [
    "adata_T.write('T_cell_10-25-22.h5ad')"
   ]
  },
  {
   "cell_type": "code",
   "execution_count": null,
   "id": "49298c5f",
   "metadata": {},
   "outputs": [],
   "source": []
  },
  {
   "cell_type": "code",
   "execution_count": null,
   "id": "c7b4faff",
   "metadata": {},
   "outputs": [],
   "source": []
  },
  {
   "cell_type": "code",
   "execution_count": null,
   "id": "3acb93ab",
   "metadata": {},
   "outputs": [],
   "source": []
  },
  {
   "cell_type": "code",
   "execution_count": null,
   "id": "66a31be4",
   "metadata": {},
   "outputs": [],
   "source": []
  },
  {
   "cell_type": "code",
   "execution_count": null,
   "id": "73b2d948",
   "metadata": {},
   "outputs": [],
   "source": []
  }
 ],
 "metadata": {
  "kernelspec": {
   "display_name": "Python 3 (ipykernel)",
   "language": "python",
   "name": "python3"
  },
  "language_info": {
   "codemirror_mode": {
    "name": "ipython",
    "version": 3
   },
   "file_extension": ".py",
   "mimetype": "text/x-python",
   "name": "python",
   "nbconvert_exporter": "python",
   "pygments_lexer": "ipython3",
   "version": "3.8.16"
  }
 },
 "nbformat": 4,
 "nbformat_minor": 5
}
